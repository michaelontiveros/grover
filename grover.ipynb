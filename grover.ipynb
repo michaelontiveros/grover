{
 "cells": [
  {
   "cell_type": "markdown",
   "id": "75a9c456",
   "metadata": {},
   "source": [
    "#### toy grover search\n",
    "&nbsp; &nbsp; &nbsp; following Nielsen-Chuang ( chapter 6.1 ) and Hidary ( chapter 8.6 )"
   ]
  },
  {
   "cell_type": "code",
   "execution_count": 1,
   "id": "b8e69324",
   "metadata": {},
   "outputs": [],
   "source": [
    "import cirq\n",
    "import numpy as np\n",
    "import matplotlib.pyplot as plt"
   ]
  },
  {
   "cell_type": "code",
   "execution_count": 2,
   "id": "278c40cc",
   "metadata": {},
   "outputs": [],
   "source": [
    "def int2bit( n, k ): # the binary expansion of n, as a list of k bits\n",
    "    assert 0 <= n < 2 ** k\n",
    "    b = [ 0 if b == '0' else 1 for b in bin( n )[ 2 : ] ]\n",
    "    return ( k - len( b ) ) * [ 0 ] + b"
   ]
  },
  {
   "cell_type": "code",
   "execution_count": 3,
   "id": "227cb709",
   "metadata": {},
   "outputs": [],
   "source": [
    "def bit2int( b ):\n",
    "    n = sum( [ bn * 2 ** n for n, bn in enumerate( reversed( b ) ) ] )\n",
    "    return n"
   ]
  },
  {
   "cell_type": "code",
   "execution_count": 4,
   "id": "524d2018",
   "metadata": {},
   "outputs": [],
   "source": [
    "def reflection_gate( q ):\n",
    "    R = [ cirq.Z.controlled( len( q ) - 1 ).on( * q ) ]\n",
    "    return R"
   ]
  },
  {
   "cell_type": "code",
   "execution_count": 5,
   "id": "b00a507e",
   "metadata": {},
   "outputs": [],
   "source": [
    "def oracle_gates( q, m ): # only the oracle knows m\n",
    "    b = int2bit( m, len( q ) ) # the bits of m\n",
    "    Xs = [ cirq.X( qn ) for qn, bn in zip( q, b ) if bn == 0 ]\n",
    "    R = reflection_gate( q )\n",
    "    return Xs + R + Xs"
   ]
  },
  {
   "cell_type": "code",
   "execution_count": 6,
   "id": "5bdf65cd",
   "metadata": {},
   "outputs": [],
   "source": [
    "def diffusion_gates( q ):\n",
    "    Hs = [ cirq.H.on_each( q ) ]\n",
    "    Xs = [ cirq.X.on_each( q ) ]\n",
    "    R = reflection_gate( q )\n",
    "    return Hs + Xs + R + Xs + Hs"
   ]
  },
  {
   "cell_type": "code",
   "execution_count": 7,
   "id": "e008471b",
   "metadata": {},
   "outputs": [],
   "source": [
    "def grover_gates( q, oracle, diffuser, size ):\n",
    "    Hs = [ cirq.H.on_each( q ) ]\n",
    "    rotations = size * ( oracle + diffuser ) # two reflections make a rotation\n",
    "    measurements = [ cirq.measure( qn, key = str( n ) ) for n, qn in enumerate( q ) ]\n",
    "    return Hs + rotations + measurements"
   ]
  },
  {
   "cell_type": "code",
   "execution_count": 8,
   "id": "36c667d5",
   "metadata": {},
   "outputs": [],
   "source": [
    "def simulate( q, circuit, times ):\n",
    "    result = cirq.Simulator( ).run( program = circuit, repetitions = times )\n",
    "    result = [ result.measurements[ str( n ) ] for n in range( len( q ) ) ]\n",
    "    return np.array( result ).squeeze( )"
   ]
  },
  {
   "cell_type": "code",
   "execution_count": 9,
   "id": "71bfa6fd",
   "metadata": {},
   "outputs": [],
   "source": [
    "def measure( result ):\n",
    "    measurement = [ bit2int( b ) for b in result.T ]\n",
    "    probability = np.zeros( 2 ** len( result ), dtype = 'float' )\n",
    "    for n in measurement : probability[ n ] += 1 / len( measurement )\n",
    "    return measurement, probability"
   ]
  },
  {
   "cell_type": "code",
   "execution_count": 10,
   "id": "3e7b04fe",
   "metadata": {},
   "outputs": [],
   "source": [
    "def plot( dimension, probability ):\n",
    "    fig, axis = plt.subplots( figsize = ( 14, 5 ), facecolor = 'white' )\n",
    "    axis.set_xlabel( 'measurement', size = '12' )\n",
    "    axis.set_ylabel( 'probability', size = '12' )\n",
    "    axis.plot( dimension, probability, color = 'black', marker = '.', linestyle = 'None' )\n",
    "    plt.show( )"
   ]
  },
  {
   "cell_type": "code",
   "execution_count": 11,
   "id": "2a17682f",
   "metadata": {},
   "outputs": [],
   "source": [
    "def display( circuit, result, size, m ):\n",
    "    [ k, times ] = result.shape\n",
    "    sqrt = int( 3.14 / 4 * 2 ** ( k / 2 ) ) # circuit complexity O( sqrt( 2 ** k ) )\n",
    "    print( 'grover circuit simulation\\n' )\n",
    "    print( f'qubits        { k }' )\n",
    "    print( f'optimal size  { sqrt } rotations' )\n",
    "    print( f'actual  size  { size } rotations' )\n",
    "    print( f'looking for   { m } among the numbers { 0 }, { 1 }, ..., { 2 ** k - 1 }\\n' )\n",
    "    measurement, probability = measure( result )\n",
    "    if times < 300 : print( f'measurements\\n{ measurement }' )\n",
    "    if k < 20 : plot( range( 2 ** k ), probability )\n",
    "    if size <  4 : print( f'\\ncircuit diagram\\n{ circuit }' ) "
   ]
  },
  {
   "cell_type": "code",
   "execution_count": 12,
   "id": "80b85ce5",
   "metadata": {},
   "outputs": [
    {
     "name": "stdout",
     "output_type": "stream",
     "text": [
      "grover circuit simulation\n",
      "\n",
      "qubits        8\n",
      "optimal size  12 rotations\n",
      "actual  size  7 rotations\n",
      "looking for   6 among the numbers 0, 1, ..., 255\n",
      "\n",
      "measurements\n",
      "[6, 147, 6, 6, 6, 3, 6, 6, 163, 184, 53, 6, 163, 136, 6, 156, 6, 140, 31, 6, 6, 211, 6, 6, 98, 6, 6, 168, 169, 152, 6, 6, 193, 6, 6, 6, 6, 11, 6, 6, 6, 6, 6, 6, 6, 6, 6, 79, 6, 6, 6, 6, 6, 177, 173, 6, 184, 253, 6, 6, 6, 27, 6, 6, 6, 6, 198, 6, 35, 6, 6, 6, 6, 6, 188, 6, 6, 188, 6, 6, 6, 6, 6, 76, 6, 6, 6, 6, 6, 223, 181, 6, 6, 6, 26, 6, 6, 6, 61, 6]\n"
     ]
    },
    {
     "data": {
      "image/png": "[encoded data removed]",
      "text/plain": [
       "<Figure size 1008x360 with 1 Axes>"
      ]
     },
     "metadata": {},
     "output_type": "display_data"
    }
   ],
   "source": [
    "m = 6 # is the number that we hope to measure at the end of the circuit\n",
    "k = 8 # is the number of qubits in the circuit\n",
    "size = 7 # is the number of rotations in the circuit\n",
    "times = 100 # is the number of circuit simulations\n",
    "\n",
    "q = cirq.LineQubit.range( k )\n",
    "oracle = oracle_gates( q, m )\n",
    "diffuser = diffusion_gates( q )\n",
    "grover = cirq.Circuit( grover_gates( q, oracle, diffuser, size ) )\n",
    "result = simulate( q, grover, times )\n",
    "display( grover, result, size, m )"
   ]
  },
  {
   "cell_type": "code",
   "execution_count": 13,
   "id": "670f61e9",
   "metadata": {
    "scrolled": false
   },
   "outputs": [
    {
     "name": "stdout",
     "output_type": "stream",
     "text": [
      "grover circuit simulation\n",
      "\n",
      "qubits        16\n",
      "optimal size  200 rotations\n",
      "actual  size  100 rotations\n",
      "looking for   55555 among the numbers 0, 1, ..., 65535\n",
      "\n",
      "measurements\n",
      "[31976, 55555, 61916, 55555, 51855, 41332, 55555, 55555, 55555, 23435, 55555, 55555, 24469, 51874, 55555, 36478, 55555, 31610, 55555, 55555, 55555, 22256, 55555, 23407, 55555, 55555, 55555, 58055, 43917, 20720, 55555, 55555, 40603, 45818, 55555, 38953, 54271, 55555, 1036, 55555, 55555, 55555, 55555, 55555, 55555, 29599, 55555, 40025, 13570, 55555, 55555, 55627, 13338, 7557, 55555, 55555, 55555, 55555, 55555, 36371, 55555, 35283, 63209, 55555, 55555, 55555, 18839, 12726, 55555, 8833, 4747, 4392, 28466, 55555, 55555, 12122, 55555, 55555, 55555, 63922, 30071, 60177, 55555, 55555, 55555, 56977, 55555, 37937, 55555, 55555, 55555, 61302, 55555, 34879, 2909, 4148, 55555, 9579, 55555, 2479]\n"
     ]
    },
    {
     "data": {
      "image/png": "[encoded data removed]",
      "text/plain": [
       "<Figure size 1008x360 with 1 Axes>"
      ]
     },
     "metadata": {},
     "output_type": "display_data"
    }
   ],
   "source": [
    "m = 55555\n",
    "k = 16\n",
    "size = 100\n",
    "times = 100\n",
    "\n",
    "q = cirq.LineQubit.range( k )\n",
    "oracle = oracle_gates( q, m )\n",
    "diffuser = diffusion_gates( q )\n",
    "grover = cirq.Circuit( grover_gates( q, oracle, diffuser, size ) )\n",
    "result = simulate( q, grover, times )\n",
    "display( grover, result, size, m )"
   ]
  },
  {
   "cell_type": "code",
   "execution_count": null,
   "id": "87ded314",
   "metadata": {},
   "outputs": [],
   "source": []
  }
 ],
 "metadata": {
  "kernelspec": {
   "display_name": "Python 3 (ipykernel)",
   "language": "python",
   "name": "python3"
  },
  "language_info": {
   "codemirror_mode": {
    "name": "ipython",
    "version": 3
   },
   "file_extension": ".py",
   "mimetype": "text/x-python",
   "name": "python",
   "nbconvert_exporter": "python",
   "pygments_lexer": "ipython3",
   "version": "3.8.2"
  }
 },
 "nbformat": 4,
 "nbformat_minor": 5
}
