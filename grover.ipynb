{
 "cells": [
  {
   "cell_type": "markdown",
   "id": "75a9c456",
   "metadata": {},
   "source": [
    "**grover search**"
   ]
  },
  {
   "cell_type": "code",
   "execution_count": 1,
   "id": "b8e69324",
   "metadata": {},
   "outputs": [],
   "source": [
    "import cirq\n",
    "import numpy as np\n",
    "import matplotlib.pyplot as plt"
   ]
  },
  {
   "cell_type": "code",
   "execution_count": 2,
   "id": "278c40cc",
   "metadata": {},
   "outputs": [],
   "source": [
    "def int2bit( n, k ):\n",
    "    assert n < 2 ** k\n",
    "    b = [ 0 if b == '0' else 1 for b in bin( n )[ 2 : ] ]\n",
    "    b = ( k - len( b ) ) * [ 0 ] + b\n",
    "    return b # the binary expansion of n, as a list of k bits"
   ]
  },
  {
   "cell_type": "code",
   "execution_count": 3,
   "id": "227cb709",
   "metadata": {},
   "outputs": [],
   "source": [
    "def bit2int( b ):\n",
    "    n = sum( [ bn * 2 ** n for n, bn in enumerate( reversed( b ) ) ] )\n",
    "    return n"
   ]
  },
  {
   "cell_type": "code",
   "execution_count": 4,
   "id": "524d2018",
   "metadata": {},
   "outputs": [],
   "source": [
    "def reflection( q ):\n",
    "    return [ cirq.Z.controlled( len( q ) - 1 ).on( * q[ : -1 ], q[ -1 ] ) ]"
   ]
  },
  {
   "cell_type": "code",
   "execution_count": 5,
   "id": "b00a507e",
   "metadata": {},
   "outputs": [],
   "source": [
    "def oracle_block( q, m ): # only the oracle knows m\n",
    "    b = int2bit( m, len( q ) ) # the bits of m\n",
    "    Xs = [ cirq.X( qn ) for qn, bn in zip( q, b ) if bn == 0 ]\n",
    "    R = reflection( q )\n",
    "    return Xs + R + Xs # list of gates"
   ]
  },
  {
   "cell_type": "code",
   "execution_count": 6,
   "id": "5bdf65cd",
   "metadata": {},
   "outputs": [],
   "source": [
    "def diffusion_block( q ):\n",
    "    Hs = [ cirq.H( qn ) for qn in q ]\n",
    "    Xs = [ cirq.X( qn ) for qn in q ]\n",
    "    R = reflection( q )\n",
    "    return Hs + Xs + R + Xs + Hs # list of gates"
   ]
  },
  {
   "cell_type": "code",
   "execution_count": 7,
   "id": "836b63e1",
   "metadata": {},
   "outputs": [],
   "source": [
    "def grover_block( q, oracle ):\n",
    "    diffuser = diffusion_block( q )\n",
    "    return oracle + diffuser # list of gates"
   ]
  },
  {
   "cell_type": "code",
   "execution_count": 8,
   "id": "e008471b",
   "metadata": {},
   "outputs": [],
   "source": [
    "def grover_circuit( q, oracle ):\n",
    "    iterations = len( q ) // 2\n",
    "    Hs = [ cirq.H( qn ) for qn in q ]\n",
    "    blocks = iterations * grover_block( q, oracle )\n",
    "    measure = [ cirq.measure( qn, key = str( n ) ) for n, qn in enumerate( q ) ]\n",
    "    circuit = cirq.Circuit( Hs + blocks + measure )\n",
    "    return circuit"
   ]
  },
  {
   "cell_type": "code",
   "execution_count": 9,
   "id": "bf675654",
   "metadata": {},
   "outputs": [],
   "source": [
    "def simulate( q, program, repetitions ):\n",
    "    k = len( q )\n",
    "    result = cirq.Simulator( ).run( program = program, repetitions = repetitions )\n",
    "    result = np.array( [ result.measurements[ str( n ) ] for n in range( k ) ] ).squeeze( )\n",
    "    measurement = np.array( [ bit2int( result[ : , n ] ) for n in range( repetitions ) ] )\n",
    "    frequency = np.zeros( 2 ** k )\n",
    "    for n in measurement:\n",
    "        frequency[ n ] = frequency[ n ] + 1\n",
    "    sim = { 'result' : result, 'measurement' : measurement, 'frequency' : frequency }\n",
    "    return sim"
   ]
  },
  {
   "cell_type": "code",
   "execution_count": 10,
   "id": "cd2ee20f",
   "metadata": {},
   "outputs": [],
   "source": [
    "def display( q, circuit, sim ):\n",
    "    fig, axis = plt.subplots( )\n",
    "    axis.set_xlabel( 'measurement', color = 'white', size = '14' )\n",
    "    axis.set_ylabel( 'frequency',   color = 'white', size = '14' )\n",
    "    axis.set_facecolor( 'black' )\n",
    "    axis.tick_params( colors = 'white' )\n",
    "    axis.plot( range( 2 ** len( q ) ), sim [ 'frequency' ], color = 'white' )\n",
    "    plt.show( )\n",
    "    print( f'measurements\\n{ sim[ \"measurement\" ] }' )\n",
    "    if len( q ) < 6:\n",
    "        print( f'\\ncircuit\\n{ circuit }\\n' )"
   ]
  },
  {
   "cell_type": "code",
   "execution_count": 14,
   "id": "670f61e9",
   "metadata": {},
   "outputs": [],
   "source": [
    "m = 6 # sought after number\n",
    "k = 5 # number of qubits\n",
    "q = cirq.LineQubit.range( k )\n",
    "oracle = oracle_block( q, m )\n",
    "grover = grover_circuit( q, oracle )"
   ]
  },
  {
   "cell_type": "code",
   "execution_count": 15,
   "id": "e55dddb9",
   "metadata": {},
   "outputs": [
    {
     "data": {
      "image/png": "[encoded data removed]",
      "text/plain": [
       "<Figure size 432x288 with 1 Axes>"
      ]
     },
     "metadata": {
      "needs_background": "dark"
     },
     "output_type": "display_data"
    },
    {
     "name": "stdout",
     "output_type": "stream",
     "text": [
      "measurements\n",
      "[ 2  6 23  6  6  3  2  6  6 10 31 13  6 14  6  1  6  6 27  6  7  6  6  6\n",
      "  6  4  6 30 28  6  6 15  6 12  5 22  6  6  6  6 30 22 28 22  3 25  6  6\n",
      "  6  7  7  6  6  6 24  6  6  7  6  6  6  8  6  0  6  7  6 21  6  9 29  6\n",
      " 18  6  6 12  6  7  6  6  6  6  6  6  6  6  6 17  6  6 20 14  6  6  6  6\n",
      " 25  6  6  7]\n",
      "\n",
      "circuit\n",
      "0: ───H───X───@───X───H───X───@───X───H───X───@───X───H───X───@───X───H───M('0')───\n",
      "              │               │               │               │\n",
      "1: ───H───X───@───X───H───X───@───X───H───X───@───X───H───X───@───X───H───M('1')───\n",
      "              │               │               │               │\n",
      "2: ───H───────@───H───X───────@───X───H───────@───H───X───────@───X───H───M('2')───\n",
      "              │               │               │               │\n",
      "3: ───H───────@───H───X───────@───X───H───────@───H───X───────@───X───H───M('3')───\n",
      "              │               │               │               │\n",
      "4: ───H───X───Z───X───H───X───Z───X───H───X───Z───X───H───X───Z───X───H───M('4')───\n",
      "\n"
     ]
    }
   ],
   "source": [
    "repetitions = 100\n",
    "simulation = simulate( q, grover, repetitions )\n",
    "display( q, grover, simulation )"
   ]
  },
  {
   "cell_type": "code",
   "execution_count": null,
   "id": "58ac059c",
   "metadata": {},
   "outputs": [],
   "source": []
  }
 ],
 "metadata": {
  "kernelspec": {
   "display_name": "Python 3 (ipykernel)",
   "language": "python",
   "name": "python3"
  },
  "language_info": {
   "codemirror_mode": {
    "name": "ipython",
    "version": 3
   },
   "file_extension": ".py",
   "mimetype": "text/x-python",
   "name": "python",
   "nbconvert_exporter": "python",
   "pygments_lexer": "ipython3",
   "version": "3.8.2"
  }
 },
 "nbformat": 4,
 "nbformat_minor": 5
}
