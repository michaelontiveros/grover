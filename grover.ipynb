{
 "cells": [
  {
   "cell_type": "markdown",
   "id": "75a9c456",
   "metadata": {},
   "source": [
    "#### toy grover search\n",
    "&nbsp; &nbsp; &nbsp; following Nielsen-Chuang ( chapter 6.1 ) and Hidary ( chapter 8.6 )"
   ]
  },
  {
   "cell_type": "code",
   "execution_count": 1,
   "id": "b8e69324",
   "metadata": {},
   "outputs": [],
   "source": [
    "import cirq\n",
    "import numpy as np\n",
    "import matplotlib.pyplot as plt"
   ]
  },
  {
   "cell_type": "code",
   "execution_count": 2,
   "id": "278c40cc",
   "metadata": {},
   "outputs": [],
   "source": [
    "def int2bit( n, k ):\n",
    "    assert n < 2 ** k\n",
    "    b = [ 0 if b == '0' else 1 for b in bin( n )[ 2 : ] ]\n",
    "    b = ( k - len( b ) ) * [ 0 ] + b\n",
    "    return b # the binary expansion of n, as a list of k bits"
   ]
  },
  {
   "cell_type": "code",
   "execution_count": 3,
   "id": "227cb709",
   "metadata": {},
   "outputs": [],
   "source": [
    "def bit2int( b ):\n",
    "    n = sum( [ bn * 2 ** n for n, bn in enumerate( reversed( b ) ) ] )\n",
    "    return n"
   ]
  },
  {
   "cell_type": "code",
   "execution_count": 4,
   "id": "524d2018",
   "metadata": {},
   "outputs": [],
   "source": [
    "def reflection( q ):\n",
    "    return [ cirq.Z.controlled( len( q ) - 1 ).on( * q[ : -1 ], q[ -1 ] ) ]"
   ]
  },
  {
   "cell_type": "code",
   "execution_count": 5,
   "id": "b00a507e",
   "metadata": {},
   "outputs": [],
   "source": [
    "def oracle_block( q, m ): # only the oracle knows m\n",
    "    b = int2bit( m, len( q ) ) # the bits of m\n",
    "    Xs = [ cirq.X( qn ) for qn, bn in zip( q, b ) if bn == 0 ]\n",
    "    R = reflection( q )\n",
    "    return Xs + R + Xs # list of gates"
   ]
  },
  {
   "cell_type": "code",
   "execution_count": 6,
   "id": "5bdf65cd",
   "metadata": {},
   "outputs": [],
   "source": [
    "def diffusion_block( q ):\n",
    "    Hs = [ cirq.H( qn ) for qn in q ]\n",
    "    Xs = [ cirq.X( qn ) for qn in q ]\n",
    "    R = reflection( q )\n",
    "    return Hs + Xs + R + Xs + Hs # list of gates"
   ]
  },
  {
   "cell_type": "code",
   "execution_count": 7,
   "id": "836b63e1",
   "metadata": {},
   "outputs": [],
   "source": [
    "def grover_block( q, oracle ):\n",
    "    diffuser = diffusion_block( q )\n",
    "    return oracle + diffuser # list of gates"
   ]
  },
  {
   "cell_type": "code",
   "execution_count": 8,
   "id": "e008471b",
   "metadata": {},
   "outputs": [],
   "source": [
    "def grover_circuit( q, oracle, width ):\n",
    "    Hs = [ cirq.H( qn ) for qn in q ]\n",
    "    blocks = width * grover_block( q, oracle )\n",
    "    measure = [ cirq.measure( qn, key = str( n ) ) for n, qn in enumerate( q ) ]\n",
    "    circuit = cirq.Circuit( Hs + blocks + measure )\n",
    "    return circuit"
   ]
  },
  {
   "cell_type": "code",
   "execution_count": 9,
   "id": "36c667d5",
   "metadata": {},
   "outputs": [],
   "source": [
    "def simulate( q, program, repetitions ):\n",
    "    result = cirq.Simulator( ).run( program = program, repetitions = repetitions )\n",
    "    result = [ result.measurements[ str( n ) ] for n in range( len( q ) ) ]\n",
    "    return np.array( result ).squeeze( )"
   ]
  },
  {
   "cell_type": "code",
   "execution_count": 10,
   "id": "886d89a2",
   "metadata": {},
   "outputs": [],
   "source": [
    "def plot( measurement, k ):\n",
    "    count = np.zeros( 2 ** k, dtype = 'float' )\n",
    "    for n in measurement : count[ n ] += 1\n",
    "    prob = count / np.sum( count )\n",
    "    fig, axis = plt.subplots( )\n",
    "    axis.set_facecolor( 'black' )\n",
    "    axis.tick_params( colors = 'white' )\n",
    "    axis.set_xlabel( 'measurement', color = 'white', size = '14' )\n",
    "    axis.set_ylabel( 'probability', color = 'white', size = '14' )\n",
    "    axis.plot( range( 2 ** k ), prob, color = 'white', marker = '.', linestyle = 'None' )\n",
    "    fig.set_figwidth( 11 )\n",
    "    fig.set_figheight( 6 )\n",
    "    plt.show( )"
   ]
  },
  {
   "cell_type": "code",
   "execution_count": 14,
   "id": "cd2ee20f",
   "metadata": {},
   "outputs": [],
   "source": [
    "def display( circuit, result, width, m ):\n",
    "    [ k, repetitions ] = result.shape\n",
    "    w = int( 3.14 / 4 * 2 ** ( k / 2 ) ) \n",
    "    measurement = np.array( [ bit2int( result[ : , n ] ) for n in range( repetitions ) ] )\n",
    "    print( 'grover circuit\\n' )\n",
    "    print( f'qubits        { k }' )\n",
    "    print( f'optimal width { w }' )\n",
    "    print( f'actual width  { width }\\n' )\n",
    "    print( f'looking for   { m } among the numbers { 0 }, { 1 }, ..., { 2 ** k - 1 }\\n' )\n",
    "    if repetitions < 300 : print( f'measurements\\n{ measurement }' )\n",
    "    if k < 20 : plot( measurement, k )\n",
    "    if width <  3 : print( f'\\ncircuit diagram\\n{ circuit }' ) "
   ]
  },
  {
   "cell_type": "code",
   "execution_count": 16,
   "id": "670f61e9",
   "metadata": {},
   "outputs": [
    {
     "name": "stdout",
     "output_type": "stream",
     "text": [
      "grover circuit\n",
      "\n",
      "qubits        16\n",
      "optimal width 200\n",
      "actual width  100\n",
      "\n",
      "looking for   12345 among the numbers 0, 1, ..., 65535\n",
      "\n",
      "measurements\n",
      "[49426 12345 12345 12345 12345 12345 12345  1023 12345 12345 13255 12345\n",
      " 12345 10668 12345 12345 12345 57512 12345 12345 12345 12345 12345  3342\n",
      " 12345 20777 61013 12345 12345 12345 12345 12345 12345 15238 35519 12345\n",
      " 12345 20457 31055 12345 12345 12345 35701  2339 12345 12345 12345 57792\n",
      " 12345 44611]\n"
     ]
    },
    {
     "data": {
      "image/png": "[encoded data removed]",
      "text/plain": [
       "<Figure size 792x432 with 1 Axes>"
      ]
     },
     "metadata": {
      "needs_background": "dark"
     },
     "output_type": "display_data"
    }
   ],
   "source": [
    "m = 12345 # sought after number\n",
    "k = 16 # number of qubits\n",
    "q = cirq.LineQubit.range( k )\n",
    "oracle = oracle_block( q, m )\n",
    "\n",
    "w = int( 3.14 / 4 * 2 ** ( k / 2 ) ) # optimal width of the circuit\n",
    "w = 100 # try smaller circuit\n",
    "grover = grover_circuit( q, oracle, w )\n",
    "\n",
    "repetitions = 50\n",
    "result = simulate( q, grover, repetitions )\n",
    "display( grover, result, w, m )"
   ]
  },
  {
   "cell_type": "code",
   "execution_count": null,
   "id": "cfe44646",
   "metadata": {},
   "outputs": [],
   "source": []
  }
 ],
 "metadata": {
  "kernelspec": {
   "display_name": "Python 3 (ipykernel)",
   "language": "python",
   "name": "python3"
  },
  "language_info": {
   "codemirror_mode": {
    "name": "ipython",
    "version": 3
   },
   "file_extension": ".py",
   "mimetype": "text/x-python",
   "name": "python",
   "nbconvert_exporter": "python",
   "pygments_lexer": "ipython3",
   "version": "3.8.2"
  }
 },
 "nbformat": 4,
 "nbformat_minor": 5
}
