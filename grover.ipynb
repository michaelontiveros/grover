{
 "cells": [
  {
   "cell_type": "markdown",
   "id": "75a9c456",
   "metadata": {},
   "source": [
    "#### toy grover search\n",
    "&nbsp; &nbsp; &nbsp; following Nielsen-Chuang ( chapter 6.1 ) and Hidary ( chapter 8.6 )"
   ]
  },
  {
   "cell_type": "code",
   "execution_count": 1,
   "id": "b8e69324",
   "metadata": {},
   "outputs": [],
   "source": [
    "import cirq\n",
    "import numpy as np\n",
    "import matplotlib.pyplot as plt"
   ]
  },
  {
   "cell_type": "code",
   "execution_count": 2,
   "id": "278c40cc",
   "metadata": {},
   "outputs": [],
   "source": [
    "def int2bit( n, k ):\n",
    "    assert n < 2 ** k\n",
    "    b = [ 0 if b == '0' else 1 for b in bin( n )[ 2 : ] ]\n",
    "    b = ( k - len( b ) ) * [ 0 ] + b\n",
    "    return b # the binary expansion of n, as a list of k bits"
   ]
  },
  {
   "cell_type": "code",
   "execution_count": 3,
   "id": "227cb709",
   "metadata": {},
   "outputs": [],
   "source": [
    "def bit2int( b ):\n",
    "    n = sum( [ bn * 2 ** n for n, bn in enumerate( reversed( b ) ) ] )\n",
    "    return n"
   ]
  },
  {
   "cell_type": "code",
   "execution_count": 4,
   "id": "524d2018",
   "metadata": {},
   "outputs": [],
   "source": [
    "def reflection( q ):\n",
    "    R = [ cirq.Z.controlled( len( q ) - 1 ).on( * q ) ]\n",
    "    return R # a gate in a list"
   ]
  },
  {
   "cell_type": "code",
   "execution_count": 5,
   "id": "b00a507e",
   "metadata": {},
   "outputs": [],
   "source": [
    "def oracle_gates( q, m ): # only the oracle knows m\n",
    "    b = int2bit( m, len( q ) ) # the bits of m\n",
    "    Xs = [ cirq.X( qn ) for qn, bn in zip( q, b ) if bn == 0 ]\n",
    "    R = reflection( q )\n",
    "    return Xs + R + Xs # gates in a list"
   ]
  },
  {
   "cell_type": "code",
   "execution_count": 6,
   "id": "5bdf65cd",
   "metadata": {},
   "outputs": [],
   "source": [
    "def diffusion_gates( q ):\n",
    "    Hs = [ cirq.H.on_each( q ) ]\n",
    "    Xs = [ cirq.X.on_each( q ) ]\n",
    "    R = reflection( q )\n",
    "    return Hs + Xs + R + Xs + Hs # gates in a list"
   ]
  },
  {
   "cell_type": "code",
   "execution_count": 7,
   "id": "e008471b",
   "metadata": {},
   "outputs": [],
   "source": [
    "def grover_circuit( q, oracle, diffuser, size ):\n",
    "    Hs = [ cirq.H.on_each( q ) ]\n",
    "    rotation = oracle + diffuser # two reflections make a rotation\n",
    "    rotations = size * rotation\n",
    "    measure = [ cirq.measure( qn, key = str( n ) ) for n, qn in enumerate( q ) ]\n",
    "    return cirq.Circuit( Hs + rotations + measure )"
   ]
  },
  {
   "cell_type": "code",
   "execution_count": 8,
   "id": "36c667d5",
   "metadata": {},
   "outputs": [],
   "source": [
    "def simulate( q, program, repetitions ):\n",
    "    result = cirq.Simulator( ).run( program = program, repetitions = repetitions )\n",
    "    result = [ result.measurements[ str( n ) ] for n in range( len( q ) ) ]\n",
    "    return np.array( result ).squeeze( )"
   ]
  },
  {
   "cell_type": "code",
   "execution_count": 9,
   "id": "886d89a2",
   "metadata": {},
   "outputs": [],
   "source": [
    "def plot( measurement, k ):\n",
    "    count = np.zeros( 2 ** k, dtype = 'float' )\n",
    "    for n in measurement : count[ n ] += 1\n",
    "    prob = count / np.sum( count )\n",
    "    fig, axis = plt.subplots( )\n",
    "    axis.set_facecolor( 'black' )\n",
    "    axis.tick_params( colors = 'white' )\n",
    "    axis.set_xlabel( 'measurement', color = 'white', size = '14' )\n",
    "    axis.set_ylabel( 'probability', color = 'white', size = '14' )\n",
    "    axis.plot( range( 2 ** k ), prob, color = 'white', marker = '.', linestyle = 'None' )\n",
    "    fig.set_figwidth( 11 )\n",
    "    fig.set_figheight( 6 )\n",
    "    plt.show( )"
   ]
  },
  {
   "cell_type": "code",
   "execution_count": 10,
   "id": "cd2ee20f",
   "metadata": {},
   "outputs": [],
   "source": [
    "def display( circuit, result, size, m ):\n",
    "    [ k, repetitions ] = result.shape\n",
    "    sqrt = int( 3.14 / 4 * 2 ** ( k / 2 ) ) \n",
    "    measurement = np.array( [ bit2int( result[ : , n ] ) for n in range( repetitions ) ] )\n",
    "    print( 'grover circuit simulation\\n' )\n",
    "    print( f'qubits        { k }' )\n",
    "    print( f'optimal size  { sqrt } rotations' )\n",
    "    print( f'actual  size  { size } rotations' )\n",
    "    print( f'looking for   { m } among the numbers { 0 }, { 1 }, ..., { 2 ** k - 1 }\\n' )\n",
    "    if repetitions < 300 : print( f'measurements\\n{ measurement }' )\n",
    "    if k < 20 : plot( measurement, k )\n",
    "    if size <  3 : print( f'\\ncircuit diagram\\n{ circuit }' ) "
   ]
  },
  {
   "cell_type": "code",
   "execution_count": 13,
   "id": "80b85ce5",
   "metadata": {},
   "outputs": [
    {
     "name": "stdout",
     "output_type": "stream",
     "text": [
      "grover circuit simulation\n",
      "\n",
      "qubits        4\n",
      "optimal size  3 rotations\n",
      "actual  size  2 rotations\n",
      "looking for   6 among the numbers 0, 1, ..., 15\n",
      "\n",
      "measurements\n",
      "[ 6  6  6  6  6  6  6 14  6  6 13  6  6  6  6  6  6 13  6  6  6  6  6  6\n",
      "  6  6  6  6  6  6  6  6  6  6  6  6  6  7  6  6  6  6  6  1  6  6  6  6\n",
      "  6  6  6  6  6  6  6  6  6  6  6  6  6  6  6  6  6  6 11  6  6  6  6  6\n",
      "  6  6  6  6  6  6  6  6  6  6  6  6  6  6  6  6  6  6  6  6  6  6  6  6\n",
      "  6  6  6  6]\n"
     ]
    },
    {
     "data": {
      "image/png": "[encoded data removed]",
      "text/plain": [
       "<Figure size 792x432 with 1 Axes>"
      ]
     },
     "metadata": {
      "needs_background": "dark"
     },
     "output_type": "display_data"
    },
    {
     "name": "stdout",
     "output_type": "stream",
     "text": [
      "\n",
      "circuit diagram\n",
      "0: ───H───X───@───X───H───X───@───X───H───X───@───X───H───X───@───X───H───M('0')───\n",
      "              │               │               │               │\n",
      "1: ───H───────@───H───X───────@───X───H───────@───H───X───────@───X───H───M('1')───\n",
      "              │               │               │               │\n",
      "2: ───H───────@───H───X───────@───X───H───────@───H───X───────@───X───H───M('2')───\n",
      "              │               │               │               │\n",
      "3: ───H───X───Z───X───H───X───Z───X───H───X───Z───X───H───X───Z───X───H───M('3')───\n"
     ]
    }
   ],
   "source": [
    "m = 6 # what we hope to measure\n",
    "k = 4 # number of qubits\n",
    "q = cirq.LineQubit.range( k )\n",
    "oracle = oracle_gates( q, m )\n",
    "diffuser = diffusion_gates( q )\n",
    "\n",
    "size = int( 3.14 / 4 * 2 ** ( k / 2 ) ) # optimal size of the circuit, in rotations\n",
    "size = 2                                # try smaller circuit\n",
    "grover = grover_circuit( q, oracle, diffuser, size )\n",
    "\n",
    "repetitions = 100\n",
    "result = simulate( q, grover, repetitions )\n",
    "display( grover, result, size, m )"
   ]
  },
  {
   "cell_type": "code",
   "execution_count": 12,
   "id": "670f61e9",
   "metadata": {},
   "outputs": [
    {
     "name": "stdout",
     "output_type": "stream",
     "text": [
      "grover circuit simulation\n",
      "\n",
      "qubits        16\n",
      "optimal size  200 rotations\n",
      "actual  size  100 rotations\n",
      "looking for   11111 among the numbers 0, 1, ..., 65535\n",
      "\n",
      "measurements\n",
      "[16208 11111 28691 11111 35272 38820 11111 15106 11111 11111 11111  2778\n",
      " 25440  7308 11111   973 28442 57783 11111 11111 37043 20051 46605 11111\n",
      " 11111 43238 38534 11111 43170 11111 64437 11111 35973 11111 19479 30878\n",
      " 11111 57197 64156  9909 62789 11111 11111 38889 11111 40462 54694 11111\n",
      " 11111 11111]\n"
     ]
    },
    {
     "data": {
      "image/png": "[encoded data removed]",
      "text/plain": [
       "<Figure size 792x432 with 1 Axes>"
      ]
     },
     "metadata": {
      "needs_background": "dark"
     },
     "output_type": "display_data"
    }
   ],
   "source": [
    "m = 11111\n",
    "k = 16\n",
    "q = cirq.LineQubit.range( k )\n",
    "oracle = oracle_gates( q, m )\n",
    "diffuser = diffusion_gates( q )\n",
    "\n",
    "size = 100\n",
    "grover = grover_circuit( q, oracle, diffuser, size )\n",
    "\n",
    "repetitions = 50\n",
    "result = simulate( q, grover, repetitions )\n",
    "display( grover, result, size, m )"
   ]
  },
  {
   "cell_type": "code",
   "execution_count": null,
   "id": "cfe44646",
   "metadata": {},
   "outputs": [],
   "source": []
  }
 ],
 "metadata": {
  "kernelspec": {
   "display_name": "Python 3 (ipykernel)",
   "language": "python",
   "name": "python3"
  },
  "language_info": {
   "codemirror_mode": {
    "name": "ipython",
    "version": 3
   },
   "file_extension": ".py",
   "mimetype": "text/x-python",
   "name": "python",
   "nbconvert_exporter": "python",
   "pygments_lexer": "ipython3",
   "version": "3.8.2"
  }
 },
 "nbformat": 4,
 "nbformat_minor": 5
}
